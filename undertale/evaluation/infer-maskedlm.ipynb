{
 "cells": [
  {
   "cell_type": "code",
   "execution_count": null,
   "id": "8250aeaf",
   "metadata": {},
   "outputs": [],
   "source": [
    "import lib\n",
    "from bertviz import model_view"
   ]
  },
  {
   "cell_type": "code",
   "execution_count": null,
   "id": "13f28ac4-0f5b-4961-b64f-36bdbde25072",
   "metadata": {},
   "outputs": [],
   "source": [
    "# [EDIT] path to tokenizer and model checkpoints\n",
    "tokenizer_path = \"\"\n",
    "checkpoint_path = \"\"\n",
    "\n",
    "# [RECOMMENDATION]: loading the model can take long so is best to keep on a separate code cell\n",
    "tok = lib.load_tokenizer(tokenizer_path)\n",
    "model = lib.load_model(checkpoint_path)"
   ]
  },
  {
   "cell_type": "code",
   "execution_count": null,
   "id": "97f65e32-f85b-4ef5-8f76-11171e48d5d5",
   "metadata": {},
   "outputs": [],
   "source": [
    "# make a prediction\n",
    "attention, mask, predicted = lib.predict(\n",
    "    \"add rax 1 [NEXT] mov [MASK] qword [ rax [MASK]\",\n",
    "    tok,\n",
    "    model,\n",
    "    pretokenized=True,\n",
    "    masked=True\n",
    ")\n",
    "\n",
    "attention = lib.remove_padded_tokens(mask, attention)\n",
    "model_view(attention, predicted)"
   ]
  },
  {
   "cell_type": "markdown",
   "id": "3adb0f5c",
   "metadata": {},
   "source": []
  }
 ],
 "metadata": {
  "kernelspec": {
   "display_name": "ut",
   "language": "python",
   "name": "python3"
  },
  "language_info": {
   "codemirror_mode": {
    "name": "ipython",
    "version": 3
   },
   "file_extension": ".py",
   "mimetype": "text/x-python",
   "name": "python",
   "nbconvert_exporter": "python",
   "pygments_lexer": "ipython3",
   "version": "3.10.18"
  }
 },
 "nbformat": 4,
 "nbformat_minor": 5
}
