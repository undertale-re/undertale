{
 "cells": [
  {
   "cell_type": "code",
   "execution_count": null,
   "id": "8250aeaf",
   "metadata": {},
   "outputs": [],
   "source": [
    "import lib\n",
    "import torch\n",
    "torch.manual_seed(42)\n",
    "from bertviz import model_view"
   ]
  },
  {
   "cell_type": "code",
   "execution_count": null,
   "id": "13f28ac4-0f5b-4961-b64f-36bdbde25072",
   "metadata": {},
   "outputs": [],
   "source": [
    "# [EDIT] path to tokenizer and model checkpoints\n",
    "tokenizer_path = \"item.tokenizer.nixpkgs.json\"\n",
    "\n",
    "large_model = \"\"\n",
    "small_model =  \"\"\n",
    "\n",
    "checkpoint_path = small_model\n",
    "\n",
    "# [RECOMMENDATION]: loading the model can take long so is best to keep on a separate code cell\n",
    "tok = lib.load_tokenizer(tokenizer_path)\n",
    "model = lib.load_model(checkpoint_path)"
   ]
  },
  {
   "cell_type": "code",
   "execution_count": null,
   "id": "97f65e32-f85b-4ef5-8f76-11171e48d5d5",
   "metadata": {},
   "outputs": [],
   "source": [
    "input = \"mov dword ptr [ [MASK] ], 1\"\n",
    "\n",
    "# make a prediction\n",
    "attention, mask, predicted, topk = lib.predict(\n",
    "    input,\n",
    "    tok,\n",
    "    model,\n",
    "    pretokenized=False,\n",
    "    masked=True\n",
    ")"
   ]
  },
  {
   "cell_type": "code",
   "execution_count": null,
   "id": "ef54b3f2",
   "metadata": {},
   "outputs": [],
   "source": [
    "attention = lib.remove_padded_tokens(mask, attention)\n",
    "html = model_view(attention, predicted, html_action=\"return\")\n",
    "\n",
    "with open(\"vis.html\", \"w\") as f:\n",
    "    f.write(html.data)"
   ]
  },
  {
   "cell_type": "markdown",
   "id": "5b90f177",
   "metadata": {},
   "source": [
    "# Evaluation"
   ]
  },
  {
   "cell_type": "code",
   "execution_count": null,
   "id": "a95bda2f",
   "metadata": {},
   "outputs": [],
   "source": [
    "query = \"mov [ eax ] [MASK]\"\n",
    "\n",
    "attention, mask, predicted, topk = lib.predict(\n",
    "        query,\n",
    "        tok,\n",
    "        model,\n",
    "        pretokenized=True,\n",
    "        masked=True\n",
    "    )"
   ]
  },
  {
   "cell_type": "code",
   "execution_count": null,
   "id": "8766d36e",
   "metadata": {},
   "outputs": [],
   "source": [
    "for k, v in topk.items():\n",
    "    print(f\"\\nmasked token at input index: {k}\")\n",
    "    for prediction in v:\n",
    "        print(f\"\\t{prediction}\")"
   ]
  }
 ],
 "metadata": {
  "kernelspec": {
   "display_name": "ut",
   "language": "python",
   "name": "python3"
  },
  "language_info": {
   "codemirror_mode": {
    "name": "ipython",
    "version": 3
   },
   "file_extension": ".py",
   "mimetype": "text/x-python",
   "name": "python",
   "nbconvert_exporter": "python",
   "pygments_lexer": "ipython3",
   "version": "3.10.18"
  }
 },
 "nbformat": 4,
 "nbformat_minor": 5
}
